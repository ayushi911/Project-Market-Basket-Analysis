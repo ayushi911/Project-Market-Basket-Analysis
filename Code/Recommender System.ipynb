{
 "cells": [
  {
   "cell_type": "markdown",
   "metadata": {},
   "source": [
    "# Recommender System\n",
    "\n",
    "Dataset by: Retail Rocket\n",
    "\n",
    "## About Retail rocket\n",
    "It is a 2012 start-up which help webshops to implement personalization technologies and take their marketing to the next level by real-time adjusting the website to each visitor’s interests and ultimately increasing their conversion rate, average order value and customer retention.\n",
    "\n",
    "More about Retail Rocket: [Retail Rocket](https://retailrocket.net/technologies/)"
   ]
  },
  {
   "cell_type": "code",
   "execution_count": 1,
   "metadata": {},
   "outputs": [
    {
     "name": "stdout",
     "output_type": "stream",
     "text": [
      "['events.csv', 'item_properties_part1.csv', 'category_tree.csv', 'Recommender System-Copy1.ipynb', 'Recommender System.ipynb', '.ipynb_checkpoints', 'item_properties_part2.csv']\n"
     ]
    }
   ],
   "source": [
    "# We will start with importing all the necessary libraries for working and processing the datasets.\n",
    "\n",
    "import numpy as np #fo the funtions of linear algebra\n",
    "import pandas as pd #for data processing, CSV file I/O (e.g. pd.read_csv)\n",
    "import seaborn as sns\n",
    "import matplotlib.pyplot as plt\n",
    "\n",
    "#Matplotlib: Matplotlib is mainly deployed for basic plotting. Visualization using Matplotlib generally consists \n",
    "#of bars, pies, lines, scatter plots and so on. \n",
    "\n",
    "#Seaborn: Seaborn, on the other hand, provides a variety of visualization patterns. It uses fewer syntax and \n",
    "#has easily interesting default themes.\n",
    "\n",
    "# Input data files are available in the \"../Final/\" directory.Therefore using the following code we can see our \n",
    "# input datafiles. \n",
    "import os\n",
    "print(os.listdir(\"../Final\"))"
   ]
  },
  {
   "cell_type": "markdown",
   "metadata": {},
   "source": [
    "#### Now we will read the datasets and for a useful concatenated table for our use."
   ]
  },
  {
   "cell_type": "code",
   "execution_count": 2,
   "metadata": {},
   "outputs": [
    {
     "data": {
      "text/html": [
       "<div>\n",
       "<style scoped>\n",
       "    .dataframe tbody tr th:only-of-type {\n",
       "        vertical-align: middle;\n",
       "    }\n",
       "\n",
       "    .dataframe tbody tr th {\n",
       "        vertical-align: top;\n",
       "    }\n",
       "\n",
       "    .dataframe thead th {\n",
       "        text-align: right;\n",
       "    }\n",
       "</style>\n",
       "<table border=\"1\" class=\"dataframe\">\n",
       "  <thead>\n",
       "    <tr style=\"text-align: right;\">\n",
       "      <th></th>\n",
       "      <th>timestamp</th>\n",
       "      <th>itemid</th>\n",
       "      <th>property</th>\n",
       "      <th>value</th>\n",
       "    </tr>\n",
       "  </thead>\n",
       "  <tbody>\n",
       "    <tr>\n",
       "      <th>0</th>\n",
       "      <td>1435460400000</td>\n",
       "      <td>460429</td>\n",
       "      <td>categoryid</td>\n",
       "      <td>1338</td>\n",
       "    </tr>\n",
       "    <tr>\n",
       "      <th>1</th>\n",
       "      <td>1441508400000</td>\n",
       "      <td>206783</td>\n",
       "      <td>888</td>\n",
       "      <td>1116713 960601 n277.200</td>\n",
       "    </tr>\n",
       "    <tr>\n",
       "      <th>2</th>\n",
       "      <td>1439089200000</td>\n",
       "      <td>395014</td>\n",
       "      <td>400</td>\n",
       "      <td>n552.000 639502 n720.000 424566</td>\n",
       "    </tr>\n",
       "    <tr>\n",
       "      <th>3</th>\n",
       "      <td>1431226800000</td>\n",
       "      <td>59481</td>\n",
       "      <td>790</td>\n",
       "      <td>n15360.000</td>\n",
       "    </tr>\n",
       "    <tr>\n",
       "      <th>4</th>\n",
       "      <td>1431831600000</td>\n",
       "      <td>156781</td>\n",
       "      <td>917</td>\n",
       "      <td>828513</td>\n",
       "    </tr>\n",
       "    <tr>\n",
       "      <th>5</th>\n",
       "      <td>1436065200000</td>\n",
       "      <td>285026</td>\n",
       "      <td>available</td>\n",
       "      <td>0</td>\n",
       "    </tr>\n",
       "    <tr>\n",
       "      <th>6</th>\n",
       "      <td>1434250800000</td>\n",
       "      <td>89534</td>\n",
       "      <td>213</td>\n",
       "      <td>1121373</td>\n",
       "    </tr>\n",
       "    <tr>\n",
       "      <th>7</th>\n",
       "      <td>1431831600000</td>\n",
       "      <td>264312</td>\n",
       "      <td>6</td>\n",
       "      <td>319724</td>\n",
       "    </tr>\n",
       "    <tr>\n",
       "      <th>8</th>\n",
       "      <td>1433646000000</td>\n",
       "      <td>229370</td>\n",
       "      <td>202</td>\n",
       "      <td>1330310</td>\n",
       "    </tr>\n",
       "    <tr>\n",
       "      <th>9</th>\n",
       "      <td>1434250800000</td>\n",
       "      <td>98113</td>\n",
       "      <td>451</td>\n",
       "      <td>1141052 n48.000</td>\n",
       "    </tr>\n",
       "  </tbody>\n",
       "</table>\n",
       "</div>"
      ],
      "text/plain": [
       "       timestamp  itemid    property                            value\n",
       "0  1435460400000  460429  categoryid                             1338\n",
       "1  1441508400000  206783         888          1116713 960601 n277.200\n",
       "2  1439089200000  395014         400  n552.000 639502 n720.000 424566\n",
       "3  1431226800000   59481         790                       n15360.000\n",
       "4  1431831600000  156781         917                           828513\n",
       "5  1436065200000  285026   available                                0\n",
       "6  1434250800000   89534         213                          1121373\n",
       "7  1431831600000  264312           6                           319724\n",
       "8  1433646000000  229370         202                          1330310\n",
       "9  1434250800000   98113         451                  1141052 n48.000"
      ]
     },
     "execution_count": 2,
     "metadata": {},
     "output_type": "execute_result"
    }
   ],
   "source": [
    "items1 = pd.read_csv('../Final/item_properties_part1.csv')\n",
    "items2 = pd.read_csv('../Final/item_properties_part2.csv')\n",
    "items = pd.concat([items1,items2])\n",
    "items.head(10)"
   ]
  },
  {
   "cell_type": "code",
   "execution_count": 3,
   "metadata": {},
   "outputs": [
    {
     "data": {
      "text/plain": [
       "(20275902, 4)"
      ]
     },
     "execution_count": 3,
     "metadata": {},
     "output_type": "execute_result"
    }
   ],
   "source": [
    "#for the dimension of the items matrix\n",
    "items.shape"
   ]
  },
  {
   "cell_type": "markdown",
   "metadata": {},
   "source": [
    "## About  Unix Epoch format\n",
    "\n",
    "In the above table the timestamp portion is in Unix Epoch format e.g. 1433221332117 will be converted to Tuesday, 2 June 2015 5:02:12.117 AM GMT\n",
    "\n",
    "### More about [Unix Epoch](https://en.wikipedia.org/wiki/Unix_time)"
   ]
  },
  {
   "cell_type": "code",
   "execution_count": 4,
   "metadata": {},
   "outputs": [],
   "source": [
    "import datetime\n",
    "times = []\n",
    "for i in items['timestamp']:\n",
    "    times.append(datetime.datetime.fromtimestamp(i//1000.0))"
   ]
  },
  {
   "cell_type": "code",
   "execution_count": 5,
   "metadata": {},
   "outputs": [],
   "source": [
    "items['timestamp'] = times"
   ]
  },
  {
   "cell_type": "code",
   "execution_count": 6,
   "metadata": {},
   "outputs": [
    {
     "data": {
      "text/html": [
       "<div>\n",
       "<style scoped>\n",
       "    .dataframe tbody tr th:only-of-type {\n",
       "        vertical-align: middle;\n",
       "    }\n",
       "\n",
       "    .dataframe tbody tr th {\n",
       "        vertical-align: top;\n",
       "    }\n",
       "\n",
       "    .dataframe thead th {\n",
       "        text-align: right;\n",
       "    }\n",
       "</style>\n",
       "<table border=\"1\" class=\"dataframe\">\n",
       "  <thead>\n",
       "    <tr style=\"text-align: right;\">\n",
       "      <th></th>\n",
       "      <th>timestamp</th>\n",
       "      <th>itemid</th>\n",
       "      <th>property</th>\n",
       "      <th>value</th>\n",
       "    </tr>\n",
       "  </thead>\n",
       "  <tbody>\n",
       "    <tr>\n",
       "      <th>0</th>\n",
       "      <td>2015-06-28 08:30:00</td>\n",
       "      <td>460429</td>\n",
       "      <td>categoryid</td>\n",
       "      <td>1338</td>\n",
       "    </tr>\n",
       "    <tr>\n",
       "      <th>1</th>\n",
       "      <td>2015-09-06 08:30:00</td>\n",
       "      <td>206783</td>\n",
       "      <td>888</td>\n",
       "      <td>1116713 960601 n277.200</td>\n",
       "    </tr>\n",
       "    <tr>\n",
       "      <th>2</th>\n",
       "      <td>2015-08-09 08:30:00</td>\n",
       "      <td>395014</td>\n",
       "      <td>400</td>\n",
       "      <td>n552.000 639502 n720.000 424566</td>\n",
       "    </tr>\n",
       "    <tr>\n",
       "      <th>3</th>\n",
       "      <td>2015-05-10 08:30:00</td>\n",
       "      <td>59481</td>\n",
       "      <td>790</td>\n",
       "      <td>n15360.000</td>\n",
       "    </tr>\n",
       "    <tr>\n",
       "      <th>4</th>\n",
       "      <td>2015-05-17 08:30:00</td>\n",
       "      <td>156781</td>\n",
       "      <td>917</td>\n",
       "      <td>828513</td>\n",
       "    </tr>\n",
       "    <tr>\n",
       "      <th>5</th>\n",
       "      <td>2015-07-05 08:30:00</td>\n",
       "      <td>285026</td>\n",
       "      <td>available</td>\n",
       "      <td>0</td>\n",
       "    </tr>\n",
       "    <tr>\n",
       "      <th>6</th>\n",
       "      <td>2015-06-14 08:30:00</td>\n",
       "      <td>89534</td>\n",
       "      <td>213</td>\n",
       "      <td>1121373</td>\n",
       "    </tr>\n",
       "    <tr>\n",
       "      <th>7</th>\n",
       "      <td>2015-05-17 08:30:00</td>\n",
       "      <td>264312</td>\n",
       "      <td>6</td>\n",
       "      <td>319724</td>\n",
       "    </tr>\n",
       "    <tr>\n",
       "      <th>8</th>\n",
       "      <td>2015-06-07 08:30:00</td>\n",
       "      <td>229370</td>\n",
       "      <td>202</td>\n",
       "      <td>1330310</td>\n",
       "    </tr>\n",
       "    <tr>\n",
       "      <th>9</th>\n",
       "      <td>2015-06-14 08:30:00</td>\n",
       "      <td>98113</td>\n",
       "      <td>451</td>\n",
       "      <td>1141052 n48.000</td>\n",
       "    </tr>\n",
       "  </tbody>\n",
       "</table>\n",
       "</div>"
      ],
      "text/plain": [
       "            timestamp  itemid    property                            value\n",
       "0 2015-06-28 08:30:00  460429  categoryid                             1338\n",
       "1 2015-09-06 08:30:00  206783         888          1116713 960601 n277.200\n",
       "2 2015-08-09 08:30:00  395014         400  n552.000 639502 n720.000 424566\n",
       "3 2015-05-10 08:30:00   59481         790                       n15360.000\n",
       "4 2015-05-17 08:30:00  156781         917                           828513\n",
       "5 2015-07-05 08:30:00  285026   available                                0\n",
       "6 2015-06-14 08:30:00   89534         213                          1121373\n",
       "7 2015-05-17 08:30:00  264312           6                           319724\n",
       "8 2015-06-07 08:30:00  229370         202                          1330310\n",
       "9 2015-06-14 08:30:00   98113         451                  1141052 n48.000"
      ]
     },
     "execution_count": 6,
     "metadata": {},
     "output_type": "execute_result"
    }
   ],
   "source": [
    "items.head(10)"
   ]
  },
  {
   "cell_type": "code",
   "execution_count": 7,
   "metadata": {},
   "outputs": [],
   "source": [
    "#now we load the event dataset\n",
    "events = pd.read_csv('../Final/events.csv')"
   ]
  },
  {
   "cell_type": "code",
   "execution_count": 8,
   "metadata": {},
   "outputs": [
    {
     "data": {
      "text/html": [
       "<div>\n",
       "<style scoped>\n",
       "    .dataframe tbody tr th:only-of-type {\n",
       "        vertical-align: middle;\n",
       "    }\n",
       "\n",
       "    .dataframe tbody tr th {\n",
       "        vertical-align: top;\n",
       "    }\n",
       "\n",
       "    .dataframe thead th {\n",
       "        text-align: right;\n",
       "    }\n",
       "</style>\n",
       "<table border=\"1\" class=\"dataframe\">\n",
       "  <thead>\n",
       "    <tr style=\"text-align: right;\">\n",
       "      <th></th>\n",
       "      <th>timestamp</th>\n",
       "      <th>visitorid</th>\n",
       "      <th>event</th>\n",
       "      <th>itemid</th>\n",
       "      <th>transactionid</th>\n",
       "    </tr>\n",
       "  </thead>\n",
       "  <tbody>\n",
       "    <tr>\n",
       "      <th>0</th>\n",
       "      <td>1433221332117</td>\n",
       "      <td>257597</td>\n",
       "      <td>view</td>\n",
       "      <td>355908</td>\n",
       "      <td>NaN</td>\n",
       "    </tr>\n",
       "    <tr>\n",
       "      <th>1</th>\n",
       "      <td>1433224214164</td>\n",
       "      <td>992329</td>\n",
       "      <td>view</td>\n",
       "      <td>248676</td>\n",
       "      <td>NaN</td>\n",
       "    </tr>\n",
       "    <tr>\n",
       "      <th>2</th>\n",
       "      <td>1433221999827</td>\n",
       "      <td>111016</td>\n",
       "      <td>view</td>\n",
       "      <td>318965</td>\n",
       "      <td>NaN</td>\n",
       "    </tr>\n",
       "    <tr>\n",
       "      <th>3</th>\n",
       "      <td>1433221955914</td>\n",
       "      <td>483717</td>\n",
       "      <td>view</td>\n",
       "      <td>253185</td>\n",
       "      <td>NaN</td>\n",
       "    </tr>\n",
       "    <tr>\n",
       "      <th>4</th>\n",
       "      <td>1433221337106</td>\n",
       "      <td>951259</td>\n",
       "      <td>view</td>\n",
       "      <td>367447</td>\n",
       "      <td>NaN</td>\n",
       "    </tr>\n",
       "    <tr>\n",
       "      <th>5</th>\n",
       "      <td>1433224086234</td>\n",
       "      <td>972639</td>\n",
       "      <td>view</td>\n",
       "      <td>22556</td>\n",
       "      <td>NaN</td>\n",
       "    </tr>\n",
       "    <tr>\n",
       "      <th>6</th>\n",
       "      <td>1433221923240</td>\n",
       "      <td>810725</td>\n",
       "      <td>view</td>\n",
       "      <td>443030</td>\n",
       "      <td>NaN</td>\n",
       "    </tr>\n",
       "    <tr>\n",
       "      <th>7</th>\n",
       "      <td>1433223291897</td>\n",
       "      <td>794181</td>\n",
       "      <td>view</td>\n",
       "      <td>439202</td>\n",
       "      <td>NaN</td>\n",
       "    </tr>\n",
       "    <tr>\n",
       "      <th>8</th>\n",
       "      <td>1433220899221</td>\n",
       "      <td>824915</td>\n",
       "      <td>view</td>\n",
       "      <td>428805</td>\n",
       "      <td>NaN</td>\n",
       "    </tr>\n",
       "    <tr>\n",
       "      <th>9</th>\n",
       "      <td>1433221204592</td>\n",
       "      <td>339335</td>\n",
       "      <td>view</td>\n",
       "      <td>82389</td>\n",
       "      <td>NaN</td>\n",
       "    </tr>\n",
       "  </tbody>\n",
       "</table>\n",
       "</div>"
      ],
      "text/plain": [
       "       timestamp  visitorid event  itemid  transactionid\n",
       "0  1433221332117     257597  view  355908            NaN\n",
       "1  1433224214164     992329  view  248676            NaN\n",
       "2  1433221999827     111016  view  318965            NaN\n",
       "3  1433221955914     483717  view  253185            NaN\n",
       "4  1433221337106     951259  view  367447            NaN\n",
       "5  1433224086234     972639  view   22556            NaN\n",
       "6  1433221923240     810725  view  443030            NaN\n",
       "7  1433223291897     794181  view  439202            NaN\n",
       "8  1433220899221     824915  view  428805            NaN\n",
       "9  1433221204592     339335  view   82389            NaN"
      ]
     },
     "execution_count": 8,
     "metadata": {},
     "output_type": "execute_result"
    }
   ],
   "source": [
    "events.head(10)"
   ]
  },
  {
   "cell_type": "code",
   "execution_count": 9,
   "metadata": {},
   "outputs": [
    {
     "data": {
      "text/plain": [
       "(2756101, 5)"
      ]
     },
     "execution_count": 9,
     "metadata": {},
     "output_type": "execute_result"
    }
   ],
   "source": [
    "events.shape"
   ]
  },
  {
   "cell_type": "markdown",
   "metadata": {},
   "source": [
    "### Analysing the event dataset\n",
    "\n",
    "We will look into the types of event and then have a graphical representation of the types of events"
   ]
  },
  {
   "cell_type": "code",
   "execution_count": 10,
   "metadata": {},
   "outputs": [
    {
     "name": "stdout",
     "output_type": "stream",
     "text": [
      "view           2664312\n",
      "addtocart        69332\n",
      "transaction      22457\n",
      "Name: event, dtype: int64\n"
     ]
    },
    {
     "data": {
      "text/plain": [
       "<AxesSubplot:xlabel='event', ylabel='count'>"
      ]
     },
     "execution_count": 10,
     "metadata": {},
     "output_type": "execute_result"
    },
    {
     "data": {
      "image/png": "[encoded data removed]",
      "text/plain": [
       "<Figure size 432x288 with 1 Axes>"
      ]
     },
     "metadata": {
      "needs_background": "light"
     },
     "output_type": "display_data"
    }
   ],
   "source": [
    "print(events['event'].value_counts())\n",
    "sns.countplot(x = 'event' , data = events, palette = \"pastel\")"
   ]
  },
  {
   "cell_type": "markdown",
   "metadata": {},
   "source": [
    "#### Now as we already see this above as a bar graph lets have a look on the same as pie-chart"
   ]
  },
  {
   "cell_type": "code",
   "execution_count": 11,
   "metadata": {},
   "outputs": [
    {
     "data": {
      "image/png": "[encoded data removed]",
      "text/plain": [
       "<Figure size 576x576 with 1 Axes>"
      ]
     },
     "metadata": {},
     "output_type": "display_data"
    }
   ],
   "source": [
    "data = events.event.value_counts()\n",
    "labels = data.index\n",
    "sizes = data.values\n",
    "explode = (0, 0.15, 0.15)  # explode 1st slice\n",
    "plt.subplots(figsize=(8,8))\n",
    "\n",
    "# Plot the same in a pie chart\n",
    "plt.pie(sizes, explode=explode, labels=labels,autopct='%1.1f%%', shadow=False, startangle=0)\n",
    " \n",
    "plt.axis('equal')\n",
    "plt.show()"
   ]
  },
  {
   "cell_type": "markdown",
   "metadata": {},
   "source": [
    "#### Moving to the next dataset, now we will analyze the category tree dataset "
   ]
  },
  {
   "cell_type": "code",
   "execution_count": 12,
   "metadata": {},
   "outputs": [],
   "source": [
    "category_tree = pd.read_csv('../Final/category_tree.csv')"
   ]
  },
  {
   "cell_type": "code",
   "execution_count": 13,
   "metadata": {},
   "outputs": [
    {
     "data": {
      "text/html": [
       "<div>\n",
       "<style scoped>\n",
       "    .dataframe tbody tr th:only-of-type {\n",
       "        vertical-align: middle;\n",
       "    }\n",
       "\n",
       "    .dataframe tbody tr th {\n",
       "        vertical-align: top;\n",
       "    }\n",
       "\n",
       "    .dataframe thead th {\n",
       "        text-align: right;\n",
       "    }\n",
       "</style>\n",
       "<table border=\"1\" class=\"dataframe\">\n",
       "  <thead>\n",
       "    <tr style=\"text-align: right;\">\n",
       "      <th></th>\n",
       "      <th>categoryid</th>\n",
       "      <th>parentid</th>\n",
       "    </tr>\n",
       "  </thead>\n",
       "  <tbody>\n",
       "    <tr>\n",
       "      <th>0</th>\n",
       "      <td>1016</td>\n",
       "      <td>213.0</td>\n",
       "    </tr>\n",
       "    <tr>\n",
       "      <th>1</th>\n",
       "      <td>809</td>\n",
       "      <td>169.0</td>\n",
       "    </tr>\n",
       "    <tr>\n",
       "      <th>2</th>\n",
       "      <td>570</td>\n",
       "      <td>9.0</td>\n",
       "    </tr>\n",
       "    <tr>\n",
       "      <th>3</th>\n",
       "      <td>1691</td>\n",
       "      <td>885.0</td>\n",
       "    </tr>\n",
       "    <tr>\n",
       "      <th>4</th>\n",
       "      <td>536</td>\n",
       "      <td>1691.0</td>\n",
       "    </tr>\n",
       "    <tr>\n",
       "      <th>5</th>\n",
       "      <td>231</td>\n",
       "      <td>NaN</td>\n",
       "    </tr>\n",
       "    <tr>\n",
       "      <th>6</th>\n",
       "      <td>542</td>\n",
       "      <td>378.0</td>\n",
       "    </tr>\n",
       "    <tr>\n",
       "      <th>7</th>\n",
       "      <td>1146</td>\n",
       "      <td>542.0</td>\n",
       "    </tr>\n",
       "    <tr>\n",
       "      <th>8</th>\n",
       "      <td>1140</td>\n",
       "      <td>542.0</td>\n",
       "    </tr>\n",
       "    <tr>\n",
       "      <th>9</th>\n",
       "      <td>1479</td>\n",
       "      <td>1537.0</td>\n",
       "    </tr>\n",
       "  </tbody>\n",
       "</table>\n",
       "</div>"
      ],
      "text/plain": [
       "   categoryid  parentid\n",
       "0        1016     213.0\n",
       "1         809     169.0\n",
       "2         570       9.0\n",
       "3        1691     885.0\n",
       "4         536    1691.0\n",
       "5         231       NaN\n",
       "6         542     378.0\n",
       "7        1146     542.0\n",
       "8        1140     542.0\n",
       "9        1479    1537.0"
      ]
     },
     "execution_count": 13,
     "metadata": {},
     "output_type": "execute_result"
    }
   ],
   "source": [
    "category_tree.head(10)"
   ]
  },
  {
   "cell_type": "markdown",
   "metadata": {},
   "source": [
    "**In the category_tree table :**\n",
    "Category IDs explain the relationship of different products with each other e.g. Category ID 1016 is a child of Parent ID 213.\n",
    "\n",
    "Below shows the number of items under category id 1016"
   ]
  },
  {
   "cell_type": "code",
   "execution_count": 14,
   "metadata": {},
   "outputs": [
    {
     "data": {
      "text/html": [
       "<div>\n",
       "<style scoped>\n",
       "    .dataframe tbody tr th:only-of-type {\n",
       "        vertical-align: middle;\n",
       "    }\n",
       "\n",
       "    .dataframe tbody tr th {\n",
       "        vertical-align: top;\n",
       "    }\n",
       "\n",
       "    .dataframe thead th {\n",
       "        text-align: right;\n",
       "    }\n",
       "</style>\n",
       "<table border=\"1\" class=\"dataframe\">\n",
       "  <thead>\n",
       "    <tr style=\"text-align: right;\">\n",
       "      <th></th>\n",
       "      <th>timestamp</th>\n",
       "      <th>itemid</th>\n",
       "      <th>property</th>\n",
       "      <th>value</th>\n",
       "    </tr>\n",
       "  </thead>\n",
       "  <tbody>\n",
       "    <tr>\n",
       "      <th>7236969</th>\n",
       "      <td>2015-05-10 08:30:00</td>\n",
       "      <td>6777</td>\n",
       "      <td>categoryid</td>\n",
       "      <td>1016</td>\n",
       "    </tr>\n",
       "    <tr>\n",
       "      <th>8597591</th>\n",
       "      <td>2015-05-10 08:30:00</td>\n",
       "      <td>161686</td>\n",
       "      <td>categoryid</td>\n",
       "      <td>1016</td>\n",
       "    </tr>\n",
       "    <tr>\n",
       "      <th>9496408</th>\n",
       "      <td>2015-05-10 08:30:00</td>\n",
       "      <td>276491</td>\n",
       "      <td>categoryid</td>\n",
       "      <td>1016</td>\n",
       "    </tr>\n",
       "    <tr>\n",
       "      <th>6880131</th>\n",
       "      <td>2015-05-10 08:30:00</td>\n",
       "      <td>443058</td>\n",
       "      <td>categoryid</td>\n",
       "      <td>1016</td>\n",
       "    </tr>\n",
       "    <tr>\n",
       "      <th>7202531</th>\n",
       "      <td>2015-05-10 08:30:00</td>\n",
       "      <td>462004</td>\n",
       "      <td>categoryid</td>\n",
       "      <td>1016</td>\n",
       "    </tr>\n",
       "  </tbody>\n",
       "</table>\n",
       "</div>"
      ],
      "text/plain": [
       "                  timestamp  itemid    property value\n",
       "7236969 2015-05-10 08:30:00    6777  categoryid  1016\n",
       "8597591 2015-05-10 08:30:00  161686  categoryid  1016\n",
       "9496408 2015-05-10 08:30:00  276491  categoryid  1016\n",
       "6880131 2015-05-10 08:30:00  443058  categoryid  1016\n",
       "7202531 2015-05-10 08:30:00  462004  categoryid  1016"
      ]
     },
     "execution_count": 14,
     "metadata": {},
     "output_type": "execute_result"
    }
   ],
   "source": [
    "items.loc[(items.property=='categoryid')&(items.value == '1016')].sort_values('timestamp').head()"
   ]
  },
  {
   "cell_type": "markdown",
   "metadata": {},
   "source": [
    "### Lets see unique and total visitors from event datasets"
   ]
  },
  {
   "cell_type": "code",
   "execution_count": 15,
   "metadata": {},
   "outputs": [
    {
     "name": "stdout",
     "output_type": "stream",
     "text": [
      "Unique visitors:  1407580\n",
      "All Visitors : 2756101\n"
     ]
    }
   ],
   "source": [
    "# All unique visitors\n",
    "all_customers = events['visitorid'].unique()\n",
    "print(\"Unique visitors: \" , all_customers.size)\n",
    "\n",
    "# All visitors\n",
    "print(\"All Visitors :\" , events['visitorid'].size)"
   ]
  },
  {
   "cell_type": "markdown",
   "metadata": {},
   "source": [
    "\n",
    "\n",
    "### Now we will look for the number of customers who acutally bought something "
   ]
  },
  {
   "cell_type": "code",
   "execution_count": 16,
   "metadata": {},
   "outputs": [
    {
     "name": "stdout",
     "output_type": "stream",
     "text": [
      "Number of customers who acutally bought something : 11719\n"
     ]
    }
   ],
   "source": [
    "customer_purchased = events[events.transactionid.notnull()].visitorid.unique()\n",
    "print(\"Number of customers who acutally bought something :\" , customer_purchased.size)"
   ]
  },
  {
   "cell_type": "markdown",
   "metadata": {},
   "source": [
    "\n",
    "\n",
    "\n",
    "### This shows that out of 1407580 unique customers, 11719 were the ones who actually did at least a single purchase\n",
    "\n",
    "Now let us see how many items has categoyid or available as property"
   ]
  },
  {
   "cell_type": "code",
   "execution_count": 17,
   "metadata": {},
   "outputs": [
    {
     "name": "stdout",
     "output_type": "stream",
     "text": [
      "Items with categoryid and available as property: 9167412\n"
     ]
    },
    {
     "data": {
      "text/html": [
       "<div>\n",
       "<style scoped>\n",
       "    .dataframe tbody tr th:only-of-type {\n",
       "        vertical-align: middle;\n",
       "    }\n",
       "\n",
       "    .dataframe tbody tr th {\n",
       "        vertical-align: top;\n",
       "    }\n",
       "\n",
       "    .dataframe thead th {\n",
       "        text-align: right;\n",
       "    }\n",
       "</style>\n",
       "<table border=\"1\" class=\"dataframe\">\n",
       "  <thead>\n",
       "    <tr style=\"text-align: right;\">\n",
       "      <th></th>\n",
       "      <th>timestamp</th>\n",
       "      <th>itemid</th>\n",
       "      <th>property</th>\n",
       "      <th>value</th>\n",
       "    </tr>\n",
       "  </thead>\n",
       "  <tbody>\n",
       "    <tr>\n",
       "      <th>0</th>\n",
       "      <td>2015-06-28 08:30:00</td>\n",
       "      <td>460429</td>\n",
       "      <td>categoryid</td>\n",
       "      <td>1338</td>\n",
       "    </tr>\n",
       "    <tr>\n",
       "      <th>5</th>\n",
       "      <td>2015-07-05 08:30:00</td>\n",
       "      <td>285026</td>\n",
       "      <td>available</td>\n",
       "      <td>0</td>\n",
       "    </tr>\n",
       "    <tr>\n",
       "      <th>15</th>\n",
       "      <td>2015-07-19 08:30:00</td>\n",
       "      <td>186518</td>\n",
       "      <td>available</td>\n",
       "      <td>0</td>\n",
       "    </tr>\n",
       "    <tr>\n",
       "      <th>79</th>\n",
       "      <td>2015-06-07 08:30:00</td>\n",
       "      <td>423682</td>\n",
       "      <td>available</td>\n",
       "      <td>0</td>\n",
       "    </tr>\n",
       "    <tr>\n",
       "      <th>82</th>\n",
       "      <td>2015-06-14 08:30:00</td>\n",
       "      <td>316253</td>\n",
       "      <td>available</td>\n",
       "      <td>1</td>\n",
       "    </tr>\n",
       "    <tr>\n",
       "      <th>96</th>\n",
       "      <td>2015-07-19 08:30:00</td>\n",
       "      <td>430459</td>\n",
       "      <td>available</td>\n",
       "      <td>0</td>\n",
       "    </tr>\n",
       "    <tr>\n",
       "      <th>101</th>\n",
       "      <td>2015-05-31 08:30:00</td>\n",
       "      <td>411262</td>\n",
       "      <td>available</td>\n",
       "      <td>0</td>\n",
       "    </tr>\n",
       "    <tr>\n",
       "      <th>116</th>\n",
       "      <td>2015-09-06 08:30:00</td>\n",
       "      <td>50372</td>\n",
       "      <td>available</td>\n",
       "      <td>0</td>\n",
       "    </tr>\n",
       "    <tr>\n",
       "      <th>119</th>\n",
       "      <td>2015-09-06 08:30:00</td>\n",
       "      <td>289043</td>\n",
       "      <td>available</td>\n",
       "      <td>0</td>\n",
       "    </tr>\n",
       "    <tr>\n",
       "      <th>133</th>\n",
       "      <td>2015-06-28 08:30:00</td>\n",
       "      <td>365407</td>\n",
       "      <td>available</td>\n",
       "      <td>0</td>\n",
       "    </tr>\n",
       "    <tr>\n",
       "      <th>140</th>\n",
       "      <td>2015-05-24 08:30:00</td>\n",
       "      <td>281245</td>\n",
       "      <td>categoryid</td>\n",
       "      <td>1277</td>\n",
       "    </tr>\n",
       "    <tr>\n",
       "      <th>151</th>\n",
       "      <td>2015-06-28 08:30:00</td>\n",
       "      <td>35575</td>\n",
       "      <td>categoryid</td>\n",
       "      <td>1059</td>\n",
       "    </tr>\n",
       "    <tr>\n",
       "      <th>166</th>\n",
       "      <td>2015-06-07 08:30:00</td>\n",
       "      <td>235243</td>\n",
       "      <td>available</td>\n",
       "      <td>0</td>\n",
       "    </tr>\n",
       "    <tr>\n",
       "      <th>167</th>\n",
       "      <td>2015-06-28 08:30:00</td>\n",
       "      <td>139939</td>\n",
       "      <td>available</td>\n",
       "      <td>1</td>\n",
       "    </tr>\n",
       "    <tr>\n",
       "      <th>179</th>\n",
       "      <td>2015-05-17 08:30:00</td>\n",
       "      <td>268068</td>\n",
       "      <td>available</td>\n",
       "      <td>0</td>\n",
       "    </tr>\n",
       "    <tr>\n",
       "      <th>185</th>\n",
       "      <td>2015-05-10 08:30:00</td>\n",
       "      <td>182614</td>\n",
       "      <td>available</td>\n",
       "      <td>1</td>\n",
       "    </tr>\n",
       "    <tr>\n",
       "      <th>189</th>\n",
       "      <td>2015-07-19 08:30:00</td>\n",
       "      <td>8313</td>\n",
       "      <td>categoryid</td>\n",
       "      <td>1147</td>\n",
       "    </tr>\n",
       "    <tr>\n",
       "      <th>197</th>\n",
       "      <td>2015-07-26 08:30:00</td>\n",
       "      <td>55102</td>\n",
       "      <td>categoryid</td>\n",
       "      <td>47</td>\n",
       "    </tr>\n",
       "    <tr>\n",
       "      <th>212</th>\n",
       "      <td>2015-05-10 08:30:00</td>\n",
       "      <td>289825</td>\n",
       "      <td>available</td>\n",
       "      <td>1</td>\n",
       "    </tr>\n",
       "    <tr>\n",
       "      <th>213</th>\n",
       "      <td>2015-05-31 08:30:00</td>\n",
       "      <td>397079</td>\n",
       "      <td>categoryid</td>\n",
       "      <td>619</td>\n",
       "    </tr>\n",
       "  </tbody>\n",
       "</table>\n",
       "</div>"
      ],
      "text/plain": [
       "              timestamp  itemid    property value\n",
       "0   2015-06-28 08:30:00  460429  categoryid  1338\n",
       "5   2015-07-05 08:30:00  285026   available     0\n",
       "15  2015-07-19 08:30:00  186518   available     0\n",
       "79  2015-06-07 08:30:00  423682   available     0\n",
       "82  2015-06-14 08:30:00  316253   available     1\n",
       "96  2015-07-19 08:30:00  430459   available     0\n",
       "101 2015-05-31 08:30:00  411262   available     0\n",
       "116 2015-09-06 08:30:00   50372   available     0\n",
       "119 2015-09-06 08:30:00  289043   available     0\n",
       "133 2015-06-28 08:30:00  365407   available     0\n",
       "140 2015-05-24 08:30:00  281245  categoryid  1277\n",
       "151 2015-06-28 08:30:00   35575  categoryid  1059\n",
       "166 2015-06-07 08:30:00  235243   available     0\n",
       "167 2015-06-28 08:30:00  139939   available     1\n",
       "179 2015-05-17 08:30:00  268068   available     0\n",
       "185 2015-05-10 08:30:00  182614   available     1\n",
       "189 2015-07-19 08:30:00    8313  categoryid  1147\n",
       "197 2015-07-26 08:30:00   55102  categoryid    47\n",
       "212 2015-05-10 08:30:00  289825   available     1\n",
       "213 2015-05-31 08:30:00  397079  categoryid   619"
      ]
     },
     "execution_count": 17,
     "metadata": {},
     "output_type": "execute_result"
    }
   ],
   "source": [
    "items_new = items.loc[items.property.isin(['categoryid', 'available']), :]\n",
    "print(\"Items with categoryid and available as property:\", items_new.size)\n",
    "items_new.head(20)"
   ]
  },
  {
   "cell_type": "code",
   "execution_count": 18,
   "metadata": {},
   "outputs": [
    {
     "data": {
      "text/plain": [
       "event\n",
       "addtocart      [5206, 10572, 255275, 356475, 312728, 63312, 1...\n",
       "transaction    [356475, 15335, 81345, 150318, 310791, 54058, ...\n",
       "view           [355908, 248676, 318965, 253185, 367447, 22556...\n",
       "Name: itemid, dtype: object"
      ]
     },
     "execution_count": 18,
     "metadata": {},
     "output_type": "execute_result"
    }
   ],
   "source": [
    "# Now we will group the itemid into a lists according to their event types\n",
    "\n",
    "grouped = events.groupby('event')['itemid'].apply(list)\n",
    "grouped"
   ]
  },
  {
   "cell_type": "markdown",
   "metadata": {},
   "source": [
    "\n",
    "\n",
    "\n",
    "**Now we will see the most _VIEWED_ items**"
   ]
  },
  {
   "cell_type": "code",
   "execution_count": 19,
   "metadata": {},
   "outputs": [
    {
     "data": {
      "text/plain": [
       "<AxesSubplot:>"
      ]
     },
     "execution_count": 19,
     "metadata": {},
     "output_type": "execute_result"
    },
    {
     "data": {
      "image/png": "[encoded data removed]",
      "text/plain": [
       "<Figure size 432x288 with 1 Axes>"
      ]
     },
     "metadata": {
      "needs_background": "light"
     },
     "output_type": "display_data"
    }
   ],
   "source": [
    "import operator\n",
    "views = grouped['view']\n",
    "\n",
    "count_view = {} #creating dictionary for key value pair\n",
    "\n",
    "views = np.array(views[:]) #Since views is a list, we will convert it into a numpy array for further manipulation\n",
    "\n",
    "unique, counts = np.unique(views, return_counts = True) #counting uniques values of views of this numpy views array\n",
    "\n",
    "count_view = dict(zip(unique,counts)) # converting unique and counts as a dictionay with key as unique and value as counts\n",
    "\n",
    "#sorting the dictionary\n",
    "sort_count_view = sorted(count_view.items(), key = operator.itemgetter(1), reverse = True)\n",
    "\n",
    "x = [i[0] for i in sort_count_view[:7]] # keeping number of unique views on X-axis\n",
    "\n",
    "y = [i[1] for i in sort_count_view[:7]] # keeping count number of views on Y-axis\n",
    "\n",
    "sns.barplot(x, y, order=x, palette=\"rocket\") #plotting a bargraph"
   ]
  },
  {
   "cell_type": "markdown",
   "metadata": {},
   "source": [
    "\n",
    "\n",
    "\n",
    "**Now we will see the most _ADDTOCART_ items**"
   ]
  },
  {
   "cell_type": "code",
   "execution_count": 20,
   "metadata": {},
   "outputs": [
    {
     "data": {
      "text/plain": [
       "<AxesSubplot:>"
      ]
     },
     "execution_count": 20,
     "metadata": {},
     "output_type": "execute_result"
    },
    {
     "data": {
      "image/png": "[encoded data removed]",
      "text/plain": [
       "<Figure size 432x288 with 1 Axes>"
      ]
     },
     "metadata": {
      "needs_background": "light"
     },
     "output_type": "display_data"
    }
   ],
   "source": [
    "addtocart = grouped['addtocart']\n",
    " \n",
    "count_addtocart ={}# creating dictionary for key value pair\n",
    "\n",
    "addtocart = np.array(addtocart[:]) #since addtocart is a list, we will convert it into numpy array for further manipulations\n",
    "\n",
    "unique, counts = np.unique(addtocart, return_counts=True) #counting uniques values of addtocart items of this numpy addtocart array\n",
    "\n",
    "count_addtocart = dict(zip(unique, counts)) # converting unique and counts as a dictionay with key as unique and value as counts\n",
    "\n",
    "sort_count_addtocart = sorted(count_addtocart.items(), key = operator.itemgetter(1), reverse = True) #sorting the dictionary\n",
    "\n",
    "x = [i[0] for i in sort_count_addtocart[:7]] # keeping number of unique views on X-axis\n",
    "\n",
    "y = [i[1] for i in sort_count_addtocart[:7]] # keeping count number of views on Y-axis\n",
    "\n",
    "sns.barplot(x, y, order=x, palette=\"pastel\") #plotting a bargraph"
   ]
  },
  {
   "cell_type": "markdown",
   "metadata": {},
   "source": [
    "\n",
    "\n",
    "\n",
    "**Now we will check the most _TRANSACTIONED_ items**"
   ]
  },
  {
   "cell_type": "code",
   "execution_count": 21,
   "metadata": {},
   "outputs": [
    {
     "data": {
      "text/plain": [
       "<AxesSubplot:>"
      ]
     },
     "execution_count": 21,
     "metadata": {},
     "output_type": "execute_result"
    },
    {
     "data": {
      "image/png": "[encoded data removed]",
      "text/plain": [
       "<Figure size 432x288 with 1 Axes>"
      ]
     },
     "metadata": {
      "needs_background": "light"
     },
     "output_type": "display_data"
    }
   ],
   "source": [
    "transaction = grouped['transaction']\n",
    " \n",
    "count_transaction ={} # creating dictionary for key value pair\n",
    "\n",
    "transaction = np.array(transaction[:]) #since addtocart is a list, we will convert it into numpy array for further manipulations\n",
    "\n",
    "unique, counts = np.unique(transaction, return_counts=True) #counting uniques values of addtocart items of this numpy addtocart array\n",
    "\n",
    "count_transaction = dict(zip(unique, counts)) # converting unique and counts as a dictionay with key as unique and value as counts\n",
    "\n",
    "#sorting the dictionary\n",
    "sort_count_transaction = sorted(count_transaction.items(), key = operator.itemgetter(1), reverse = True)\n",
    "\n",
    "x = [i[0] for i in sort_count_transaction[:7]] # keeping number of unique views on X-axis\n",
    "\n",
    "y = [i[1] for i in sort_count_transaction[:7]] # keeping count number of views on Y-axis\n",
    "\n",
    "sns.barplot(x, y, order=x, palette=\"vlag\") #plotting a bargraph"
   ]
  },
  {
   "cell_type": "code",
   "execution_count": 22,
   "metadata": {},
   "outputs": [
    {
     "data": {
      "text/html": [
       "<div>\n",
       "<style scoped>\n",
       "    .dataframe tbody tr th:only-of-type {\n",
       "        vertical-align: middle;\n",
       "    }\n",
       "\n",
       "    .dataframe tbody tr th {\n",
       "        vertical-align: top;\n",
       "    }\n",
       "\n",
       "    .dataframe thead th {\n",
       "        text-align: right;\n",
       "    }\n",
       "</style>\n",
       "<table border=\"1\" class=\"dataframe\">\n",
       "  <thead>\n",
       "    <tr style=\"text-align: right;\">\n",
       "      <th></th>\n",
       "      <th>timestamp</th>\n",
       "      <th>visitorid</th>\n",
       "      <th>event</th>\n",
       "      <th>itemid</th>\n",
       "      <th>transactionid</th>\n",
       "    </tr>\n",
       "  </thead>\n",
       "  <tbody>\n",
       "    <tr>\n",
       "      <th>5632</th>\n",
       "      <td>1433179439299</td>\n",
       "      <td>1026179</td>\n",
       "      <td>view</td>\n",
       "      <td>461686</td>\n",
       "      <td>NaN</td>\n",
       "    </tr>\n",
       "    <tr>\n",
       "      <th>8782</th>\n",
       "      <td>1433176153804</td>\n",
       "      <td>668227</td>\n",
       "      <td>view</td>\n",
       "      <td>461686</td>\n",
       "      <td>NaN</td>\n",
       "    </tr>\n",
       "    <tr>\n",
       "      <th>9651</th>\n",
       "      <td>1433140509491</td>\n",
       "      <td>693466</td>\n",
       "      <td>view</td>\n",
       "      <td>461686</td>\n",
       "      <td>NaN</td>\n",
       "    </tr>\n",
       "    <tr>\n",
       "      <th>10749</th>\n",
       "      <td>1433196464528</td>\n",
       "      <td>248754</td>\n",
       "      <td>view</td>\n",
       "      <td>461686</td>\n",
       "      <td>NaN</td>\n",
       "    </tr>\n",
       "    <tr>\n",
       "      <th>13618</th>\n",
       "      <td>1433142326018</td>\n",
       "      <td>1207651</td>\n",
       "      <td>view</td>\n",
       "      <td>461686</td>\n",
       "      <td>NaN</td>\n",
       "    </tr>\n",
       "    <tr>\n",
       "      <th>...</th>\n",
       "      <td>...</td>\n",
       "      <td>...</td>\n",
       "      <td>...</td>\n",
       "      <td>...</td>\n",
       "      <td>...</td>\n",
       "    </tr>\n",
       "    <tr>\n",
       "      <th>2753402</th>\n",
       "      <td>1438351837583</td>\n",
       "      <td>340886</td>\n",
       "      <td>view</td>\n",
       "      <td>461686</td>\n",
       "      <td>NaN</td>\n",
       "    </tr>\n",
       "    <tr>\n",
       "      <th>2754441</th>\n",
       "      <td>1438382216273</td>\n",
       "      <td>537015</td>\n",
       "      <td>view</td>\n",
       "      <td>461686</td>\n",
       "      <td>NaN</td>\n",
       "    </tr>\n",
       "    <tr>\n",
       "      <th>2755192</th>\n",
       "      <td>1438380064263</td>\n",
       "      <td>537015</td>\n",
       "      <td>view</td>\n",
       "      <td>461686</td>\n",
       "      <td>NaN</td>\n",
       "    </tr>\n",
       "    <tr>\n",
       "      <th>2755370</th>\n",
       "      <td>1438379267145</td>\n",
       "      <td>388278</td>\n",
       "      <td>addtocart</td>\n",
       "      <td>461686</td>\n",
       "      <td>NaN</td>\n",
       "    </tr>\n",
       "    <tr>\n",
       "      <th>2755408</th>\n",
       "      <td>1438357393116</td>\n",
       "      <td>824296</td>\n",
       "      <td>view</td>\n",
       "      <td>461686</td>\n",
       "      <td>NaN</td>\n",
       "    </tr>\n",
       "  </tbody>\n",
       "</table>\n",
       "<p>2978 rows × 5 columns</p>\n",
       "</div>"
      ],
      "text/plain": [
       "             timestamp  visitorid      event  itemid  transactionid\n",
       "5632     1433179439299    1026179       view  461686            NaN\n",
       "8782     1433176153804     668227       view  461686            NaN\n",
       "9651     1433140509491     693466       view  461686            NaN\n",
       "10749    1433196464528     248754       view  461686            NaN\n",
       "13618    1433142326018    1207651       view  461686            NaN\n",
       "...                ...        ...        ...     ...            ...\n",
       "2753402  1438351837583     340886       view  461686            NaN\n",
       "2754441  1438382216273     537015       view  461686            NaN\n",
       "2755192  1438380064263     537015       view  461686            NaN\n",
       "2755370  1438379267145     388278  addtocart  461686            NaN\n",
       "2755408  1438357393116     824296       view  461686            NaN\n",
       "\n",
       "[2978 rows x 5 columns]"
      ]
     },
     "execution_count": 22,
     "metadata": {},
     "output_type": "execute_result"
    }
   ],
   "source": [
    "# Now after having the most transactioned list we will be analyzing 461686 itemid\n",
    "events.loc[(events.itemid==461686)]"
   ]
  },
  {
   "cell_type": "markdown",
   "metadata": {},
   "source": [
    "### Moving to the next step:\n",
    "\n",
    "Lets offer visitor a list of items of what previous visitors bought **TOGETHER with the item they are currently viewing.** \n",
    "This way we can guide them in their buying journey by recommending the items"
   ]
  },
  {
   "cell_type": "code",
   "execution_count": 23,
   "metadata": {},
   "outputs": [],
   "source": [
    "# We will first create a list of visitors who made a purchase from the store\n",
    "customer_purchased = events[events.transactionid.notnull()].visitorid.unique()\n",
    "\n",
    "# Now lets create a list of purchased items\n",
    "purchased_items = []\n",
    "\n",
    "for customer in customer_purchased:\n",
    "    purchased_items.append(list(events.loc[(events.visitorid == customer) & (events.transactionid.notnull())].itemid.values))\n"
   ]
  },
  {
   "cell_type": "code",
   "execution_count": 24,
   "metadata": {},
   "outputs": [
    {
     "data": {
      "text/plain": [
       "[[356475],\n",
       " [15335,\n",
       "  380775,\n",
       "  237753,\n",
       "  317178,\n",
       "  12836,\n",
       "  400969,\n",
       "  105792,\n",
       "  25353,\n",
       "  200793,\n",
       "  80582,\n",
       "  302422],\n",
       " [81345],\n",
       " [150318, 49521],\n",
       " [310791, 299044],\n",
       " [54058,\n",
       "  284871,\n",
       "  251130,\n",
       "  268335,\n",
       "  183049,\n",
       "  261940,\n",
       "  369093,\n",
       "  370745,\n",
       "  192990,\n",
       "  277119,\n",
       "  241716,\n",
       "  283766,\n",
       "  16417,\n",
       "  217068,\n",
       "  36372,\n",
       "  68923,\n",
       "  428015,\n",
       "  69533,\n",
       "  13520,\n",
       "  385638,\n",
       "  442871,\n",
       "  136526,\n",
       "  247862,\n",
       "  93828,\n",
       "  230911,\n",
       "  382595,\n",
       "  34853,\n",
       "  216260,\n",
       "  154812,\n",
       "  445241,\n",
       "  57702,\n",
       "  347850,\n",
       "  151855,\n",
       "  226327,\n",
       "  288525,\n",
       "  51354,\n",
       "  345994,\n",
       "  170438,\n",
       "  254301,\n",
       "  266439,\n",
       "  193718,\n",
       "  388558,\n",
       "  26745,\n",
       "  184086,\n",
       "  79956,\n",
       "  252040,\n",
       "  82232,\n",
       "  309821,\n",
       "  394518,\n",
       "  462070,\n",
       "  331980,\n",
       "  353111,\n",
       "  200527,\n",
       "  235933,\n",
       "  68532,\n",
       "  358882,\n",
       "  60012,\n",
       "  29741,\n",
       "  270487,\n",
       "  163689,\n",
       "  6913,\n",
       "  156457,\n",
       "  341578,\n",
       "  163352,\n",
       "  234493,\n",
       "  135174,\n",
       "  452481,\n",
       "  241755,\n",
       "  56323,\n",
       "  210137,\n",
       "  184397,\n",
       "  285202,\n",
       "  198690,\n",
       "  195958,\n",
       "  239210,\n",
       "  71640,\n",
       "  189108,\n",
       "  369112,\n",
       "  346186,\n",
       "  211207,\n",
       "  134330,\n",
       "  257070,\n",
       "  302239,\n",
       "  459480,\n",
       "  57577,\n",
       "  195234,\n",
       "  215904,\n",
       "  374092,\n",
       "  170262,\n",
       "  170262,\n",
       "  229577,\n",
       "  264801,\n",
       "  94344,\n",
       "  204209,\n",
       "  442725,\n",
       "  9087,\n",
       "  259964,\n",
       "  361554,\n",
       "  442131,\n",
       "  23251,\n",
       "  332721,\n",
       "  85914,\n",
       "  302391,\n",
       "  200242,\n",
       "  234255,\n",
       "  372845,\n",
       "  404129,\n",
       "  214757,\n",
       "  222208,\n",
       "  372845,\n",
       "  206809,\n",
       "  249207],\n",
       " [150100,\n",
       "  50934,\n",
       "  36013,\n",
       "  26210,\n",
       "  118199,\n",
       "  234199,\n",
       "  416187,\n",
       "  167985,\n",
       "  146735,\n",
       "  4887,\n",
       "  218626,\n",
       "  338148,\n",
       "  197980,\n",
       "  240558,\n",
       "  272813,\n",
       "  197968,\n",
       "  332224,\n",
       "  92668,\n",
       "  268335,\n",
       "  120259,\n",
       "  378845,\n",
       "  449946,\n",
       "  95426,\n",
       "  85579,\n",
       "  17478,\n",
       "  16813,\n",
       "  150215,\n",
       "  187200,\n",
       "  111083,\n",
       "  359040,\n",
       "  428067,\n",
       "  179136,\n",
       "  422425,\n",
       "  242521,\n",
       "  21886,\n",
       "  448494,\n",
       "  175555,\n",
       "  421606,\n",
       "  86894,\n",
       "  243376,\n",
       "  138434,\n",
       "  422481,\n",
       "  235748,\n",
       "  63859,\n",
       "  55706]]"
      ]
     },
     "execution_count": 24,
     "metadata": {},
     "output_type": "execute_result"
    }
   ],
   "source": [
    "purchased_items[:7]"
   ]
  },
  {
   "cell_type": "markdown",
   "metadata": {},
   "source": [
    "## Moving to the Final step\n",
    "\n",
    "- lets define the function that would show items that were bought together by the same customer"
   ]
  },
  {
   "cell_type": "code",
   "execution_count": 25,
   "metadata": {},
   "outputs": [],
   "source": [
    "def recommend_items(item_id, purchased_items):\n",
    "    recommendation_list =[]\n",
    "    for x in purchased_items:\n",
    "        if item_id in x:\n",
    "            recommendation_list +=x\n",
    "    \n",
    "    # remove the pass item from the list and merge the above created list\n",
    "    recommendation_list = list(set(recommendation_list) - set([item_id]))\n",
    "    return recommendation_list"
   ]
  },
  {
   "cell_type": "markdown",
   "metadata": {},
   "source": [
    "Lets recommend items from a customer who previously bought ,when a visitor is viewing **item_id = _200793_**"
   ]
  },
  {
   "cell_type": "code",
   "execution_count": 26,
   "metadata": {},
   "outputs": [
    {
     "data": {
      "text/plain": [
       "[105792, 12836, 80582, 380775, 15335, 400969, 25353, 302422, 237753, 317178]"
      ]
     },
     "execution_count": 26,
     "metadata": {},
     "output_type": "execute_result"
    }
   ],
   "source": [
    "recommend_items(200793, purchased_items)"
   ]
  },
  {
   "cell_type": "code",
   "execution_count": 27,
   "metadata": {},
   "outputs": [
    {
     "data": {
      "text/html": [
       "<div>\n",
       "<style scoped>\n",
       "    .dataframe tbody tr th:only-of-type {\n",
       "        vertical-align: middle;\n",
       "    }\n",
       "\n",
       "    .dataframe tbody tr th {\n",
       "        vertical-align: top;\n",
       "    }\n",
       "\n",
       "    .dataframe thead th {\n",
       "        text-align: right;\n",
       "    }\n",
       "</style>\n",
       "<table border=\"1\" class=\"dataframe\">\n",
       "  <thead>\n",
       "    <tr style=\"text-align: right;\">\n",
       "      <th></th>\n",
       "      <th>timestamp</th>\n",
       "      <th>visitorid</th>\n",
       "      <th>event</th>\n",
       "      <th>itemid</th>\n",
       "      <th>transactionid</th>\n",
       "    </tr>\n",
       "  </thead>\n",
       "  <tbody>\n",
       "    <tr>\n",
       "      <th>0</th>\n",
       "      <td>1433221332117</td>\n",
       "      <td>257597</td>\n",
       "      <td>view</td>\n",
       "      <td>355908</td>\n",
       "      <td>NaN</td>\n",
       "    </tr>\n",
       "    <tr>\n",
       "      <th>1</th>\n",
       "      <td>1433224214164</td>\n",
       "      <td>992329</td>\n",
       "      <td>view</td>\n",
       "      <td>248676</td>\n",
       "      <td>NaN</td>\n",
       "    </tr>\n",
       "    <tr>\n",
       "      <th>2</th>\n",
       "      <td>1433221999827</td>\n",
       "      <td>111016</td>\n",
       "      <td>view</td>\n",
       "      <td>318965</td>\n",
       "      <td>NaN</td>\n",
       "    </tr>\n",
       "    <tr>\n",
       "      <th>3</th>\n",
       "      <td>1433221955914</td>\n",
       "      <td>483717</td>\n",
       "      <td>view</td>\n",
       "      <td>253185</td>\n",
       "      <td>NaN</td>\n",
       "    </tr>\n",
       "    <tr>\n",
       "      <th>4</th>\n",
       "      <td>1433221337106</td>\n",
       "      <td>951259</td>\n",
       "      <td>view</td>\n",
       "      <td>367447</td>\n",
       "      <td>NaN</td>\n",
       "    </tr>\n",
       "  </tbody>\n",
       "</table>\n",
       "</div>"
      ],
      "text/plain": [
       "       timestamp  visitorid event  itemid  transactionid\n",
       "0  1433221332117     257597  view  355908            NaN\n",
       "1  1433224214164     992329  view  248676            NaN\n",
       "2  1433221999827     111016  view  318965            NaN\n",
       "3  1433221955914     483717  view  253185            NaN\n",
       "4  1433221337106     951259  view  367447            NaN"
      ]
     },
     "execution_count": 27,
     "metadata": {},
     "output_type": "execute_result"
    }
   ],
   "source": [
    "events.head(5)"
   ]
  },
  {
   "cell_type": "markdown",
   "metadata": {},
   "source": [
    "We can look for another example as well, \n",
    "lets take **item_id = _150318_**"
   ]
  },
  {
   "cell_type": "code",
   "execution_count": 28,
   "metadata": {},
   "outputs": [
    {
     "data": {
      "text/plain": [
       "[49521]"
      ]
     },
     "execution_count": 28,
     "metadata": {},
     "output_type": "execute_result"
    }
   ],
   "source": [
    "recommend_items(150318, purchased_items)"
   ]
  },
  {
   "cell_type": "markdown",
   "metadata": {},
   "source": [
    "## Now we will have a model in a seperate notebook"
   ]
  },
  {
   "cell_type": "markdown",
   "metadata": {},
   "source": [
    "The notebook will be called LightFm Model"
   ]
  },
  {
   "cell_type": "code",
   "execution_count": null,
   "metadata": {},
   "outputs": [],
   "source": []
  }
 ],
 "metadata": {
  "kernelspec": {
   "display_name": "Python 3",
   "language": "python",
   "name": "python3"
  },
  "language_info": {
   "codemirror_mode": {
    "name": "ipython",
    "version": 3
   },
   "file_extension": ".py",
   "mimetype": "text/x-python",
   "name": "python",
   "nbconvert_exporter": "python",
   "pygments_lexer": "ipython3",
   "version": "3.6.9"
  }
 },
 "nbformat": 4,
 "nbformat_minor": 4
}
